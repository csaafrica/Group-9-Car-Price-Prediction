{
 "cells": [
  {
   "cell_type": "code",
   "execution_count": 1,
   "id": "3499ceb8-869e-4f48-9de4-7a46c1e00172",
   "metadata": {},
   "outputs": [],
   "source": [
    "import pandas as pd\n",
    "import numpy as np\n",
    "import seaborn as sns\n",
    "import matplotlib.pyplot as plt"
   ]
  },
  {
   "cell_type": "code",
   "execution_count": 3,
   "id": "c02aaf90-e5c4-458e-9cf2-8c680f656404",
   "metadata": {},
   "outputs": [
    {
     "data": {
      "text/html": [
       "<div>\n",
       "<style scoped>\n",
       "    .dataframe tbody tr th:only-of-type {\n",
       "        vertical-align: middle;\n",
       "    }\n",
       "\n",
       "    .dataframe tbody tr th {\n",
       "        vertical-align: top;\n",
       "    }\n",
       "\n",
       "    .dataframe thead th {\n",
       "        text-align: right;\n",
       "    }\n",
       "</style>\n",
       "<table border=\"1\" class=\"dataframe\">\n",
       "  <thead>\n",
       "    <tr style=\"text-align: right;\">\n",
       "      <th></th>\n",
       "      <th>price</th>\n",
       "      <th>transmission</th>\n",
       "      <th>condition</th>\n",
       "      <th>mileage</th>\n",
       "      <th>Name</th>\n",
       "    </tr>\n",
       "  </thead>\n",
       "  <tbody>\n",
       "    <tr>\n",
       "      <th>0</th>\n",
       "      <td>2380000</td>\n",
       "      <td>Automatic</td>\n",
       "      <td>Foreign Used</td>\n",
       "      <td>85644.0</td>\n",
       "      <td>Subaru Legacy 2015 Silver</td>\n",
       "    </tr>\n",
       "    <tr>\n",
       "      <th>1</th>\n",
       "      <td>1050000</td>\n",
       "      <td>Automatic</td>\n",
       "      <td>Foreign Used</td>\n",
       "      <td>98560.0</td>\n",
       "      <td>Toyota Sienta 2014 1.5 FWD Gray</td>\n",
       "    </tr>\n",
       "    <tr>\n",
       "      <th>2</th>\n",
       "      <td>7000000</td>\n",
       "      <td>Automatic</td>\n",
       "      <td>Foreign Used</td>\n",
       "      <td>56918.0</td>\n",
       "      <td>Toyota Land Cruiser Prado 2015 2.8 D-4d White</td>\n",
       "    </tr>\n",
       "    <tr>\n",
       "      <th>3</th>\n",
       "      <td>1950000</td>\n",
       "      <td>Automatic</td>\n",
       "      <td>Foreign Used</td>\n",
       "      <td>66000.0</td>\n",
       "      <td>Toyota Premio 2015 1.8 FWD Black</td>\n",
       "    </tr>\n",
       "    <tr>\n",
       "      <th>4</th>\n",
       "      <td>920000</td>\n",
       "      <td>Automatic</td>\n",
       "      <td>Foreign Used</td>\n",
       "      <td>42308.0</td>\n",
       "      <td>Toyota Vitz 2015 1.3 AWD 5dr Silver</td>\n",
       "    </tr>\n",
       "  </tbody>\n",
       "</table>\n",
       "</div>"
      ],
      "text/plain": [
       "     price transmission     condition  mileage  \\\n",
       "0  2380000    Automatic  Foreign Used  85644.0   \n",
       "1  1050000    Automatic  Foreign Used  98560.0   \n",
       "2  7000000    Automatic  Foreign Used  56918.0   \n",
       "3  1950000    Automatic  Foreign Used  66000.0   \n",
       "4   920000    Automatic  Foreign Used  42308.0   \n",
       "\n",
       "                                            Name  \n",
       "0                      Subaru Legacy 2015 Silver  \n",
       "1                Toyota Sienta 2014 1.5 FWD Gray  \n",
       "2  Toyota Land Cruiser Prado 2015 2.8 D-4d White  \n",
       "3               Toyota Premio 2015 1.8 FWD Black  \n",
       "4            Toyota Vitz 2015 1.3 AWD 5dr Silver  "
      ]
     },
     "execution_count": 3,
     "metadata": {},
     "output_type": "execute_result"
    }
   ],
   "source": [
    "df = pd.read_csv(\"../data/raw/carpredict_data.csv\")\n",
    "df.head()\n"
   ]
  },
  {
   "cell_type": "code",
   "execution_count": 8,
   "id": "8625ce89-68f8-4af6-80d8-a2e0b357d7ef",
   "metadata": {},
   "outputs": [
    {
     "name": "stdout",
     "output_type": "stream",
     "text": [
      "=== DATASET OVERVIEW ===\n",
      "Dataset shape: (15364, 5)\n",
      "Memory usage: 3624.8 KB\n",
      "\n"
     ]
    }
   ],
   "source": [
    "print(\"=== DATASET OVERVIEW ===\")\n",
    "print(f\"Dataset shape: {df.shape}\")\n",
    "print(f\"Memory usage: {df.memory_usage(deep=True).sum() / 1024:.1f} KB\")\n",
    "print()"
   ]
  },
  {
   "cell_type": "code",
   "execution_count": 9,
   "id": "ad3bfe87-fd10-45e1-94f8-280531d9f207",
   "metadata": {},
   "outputs": [
    {
     "name": "stdout",
     "output_type": "stream",
     "text": [
      "=== BASIC INFO ===\n",
      "<class 'pandas.core.frame.DataFrame'>\n",
      "RangeIndex: 15364 entries, 0 to 15363\n",
      "Data columns (total 5 columns):\n",
      " #   Column        Non-Null Count  Dtype  \n",
      "---  ------        --------------  -----  \n",
      " 0   price         15364 non-null  int64  \n",
      " 1   transmission  15364 non-null  object \n",
      " 2   condition     15364 non-null  object \n",
      " 3   mileage       12802 non-null  float64\n",
      " 4   Name          15364 non-null  object \n",
      "dtypes: float64(1), int64(1), object(3)\n",
      "memory usage: 600.3+ KB\n",
      "None\n",
      "\n"
     ]
    }
   ],
   "source": [
    "print(\"=== BASIC INFO ===\")\n",
    "print(df.info())\n",
    "print()"
   ]
  },
  {
   "cell_type": "code",
   "execution_count": 10,
   "id": "e4e829d5-857d-4210-8782-76115376670a",
   "metadata": {},
   "outputs": [
    {
     "name": "stdout",
     "output_type": "stream",
     "text": [
      "=== FIRST FEW ROWS ===\n",
      "     price transmission     condition  mileage  \\\n",
      "0  2380000    Automatic  Foreign Used  85644.0   \n",
      "1  1050000    Automatic  Foreign Used  98560.0   \n",
      "2  7000000    Automatic  Foreign Used  56918.0   \n",
      "3  1950000    Automatic  Foreign Used  66000.0   \n",
      "4   920000    Automatic  Foreign Used  42308.0   \n",
      "\n",
      "                                            Name  \n",
      "0                      Subaru Legacy 2015 Silver  \n",
      "1                Toyota Sienta 2014 1.5 FWD Gray  \n",
      "2  Toyota Land Cruiser Prado 2015 2.8 D-4d White  \n",
      "3               Toyota Premio 2015 1.8 FWD Black  \n",
      "4            Toyota Vitz 2015 1.3 AWD 5dr Silver  \n",
      "\n"
     ]
    }
   ],
   "source": [
    "print(\"=== FIRST FEW ROWS ===\")\n",
    "print(df.head())\n",
    "print()"
   ]
  },
  {
   "cell_type": "code",
   "execution_count": 11,
   "id": "22ff1d83-e6af-4de8-bc09-19668b24691d",
   "metadata": {},
   "outputs": [
    {
     "name": "stdout",
     "output_type": "stream",
     "text": [
      "=== STATISTICAL SUMMARY ===\n",
      "              price       mileage\n",
      "count  1.536400e+04  1.280200e+04\n",
      "mean   2.570792e+06  1.130041e+05\n",
      "std    2.632010e+06  1.340466e+05\n",
      "min    1.200000e+05  0.000000e+00\n",
      "25%    9.000000e+05  6.334400e+04\n",
      "50%    1.790000e+06  8.700000e+04\n",
      "75%    2.900000e+06  1.236900e+05\n",
      "max    3.704900e+07  2.000000e+06\n",
      "\n"
     ]
    }
   ],
   "source": [
    "print(\"=== STATISTICAL SUMMARY ===\")\n",
    "print(df.describe())\n",
    "print()"
   ]
  },
  {
   "cell_type": "code",
   "execution_count": 13,
   "id": "52cd91d9-198c-4a00-a32d-85dbedc8f4bc",
   "metadata": {},
   "outputs": [
    {
     "name": "stdout",
     "output_type": "stream",
     "text": [
      "=== MISSING VALUES ===\n",
      "price              0\n",
      "transmission       0\n",
      "condition          0\n",
      "mileage         2562\n",
      "Name               0\n",
      "dtype: int64\n",
      "Total missing values: 2562\n",
      "\n"
     ]
    }
   ],
   "source": [
    "print(\"=== MISSING VALUES ===\")\n",
    "missing_data = df.isnull().sum()\n",
    "print(missing_data)\n",
    "print(f\"Total missing values: {missing_data.sum()}\")\n",
    "print()"
   ]
  },
  {
   "cell_type": "code",
   "execution_count": 15,
   "id": "6a1157f4-7c72-427d-8451-96a1e7545432",
   "metadata": {},
   "outputs": [
    {
     "name": "stdout",
     "output_type": "stream",
     "text": [
      "113004.06092798\n"
     ]
    }
   ],
   "source": [
    "print(df[\"mileage\"].mean())\n"
   ]
  },
  {
   "cell_type": "code",
   "execution_count": null,
   "id": "3d61542f-9d31-414b-bce9-a25abf3ac031",
   "metadata": {},
   "outputs": [],
   "source": []
  }
 ],
 "metadata": {
  "kernelspec": {
   "display_name": "g9_env",
   "language": "python",
   "name": "g9_env"
  },
  "language_info": {
   "codemirror_mode": {
    "name": "ipython",
    "version": 3
   },
   "file_extension": ".py",
   "mimetype": "text/x-python",
   "name": "python",
   "nbconvert_exporter": "python",
   "pygments_lexer": "ipython3",
   "version": "3.10.18"
  }
 },
 "nbformat": 4,
 "nbformat_minor": 5
}
