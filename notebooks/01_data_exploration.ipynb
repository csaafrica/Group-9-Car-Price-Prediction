{
 "cells": [
  {
   "cell_type": "code",
   "execution_count": 1,
   "id": "3499ceb8-869e-4f48-9de4-7a46c1e00172",
   "metadata": {},
   "outputs": [],
   "source": [
    "import requests\n",
    "import pandas as pd\n",
    "import json\n",
    "import time"
   ]
  },
  {
   "cell_type": "code",
   "execution_count": 2,
   "id": "259d5acf-3525-429d-909e-8f713f5d261e",
   "metadata": {},
   "outputs": [],
   "source": [
    "def get_kenya_education_data():\n",
    "    \"\"\"Simple function to get Kenya education data\"\"\"\n",
    "    \n",
    "    # UNESCO API URL for Kenya education data\n",
    "    url = \"http://data.uis.unesco.org/api/v1/data/UIS/KEN.COMP.RATE.PRIM+COMP.RATE.SEC+PUPIL.TEACHER.PRIM+PUPIL.TEACHER.SEC?format=json&startYear=2015&endYear=2023\"\n",
    "    \n",
    "    print(\"Fetching Kenya education data...\")\n",
    "    \n",
    "    try:\n",
    "        # Get the data\n",
    "        response = requests.get(url)\n",
    "        data = response.json()\n",
    "        \n",
    "        # Convert to DataFrame\n",
    "        df = pd.DataFrame(data)\n",
    "        \n",
    "        # Clean up the data\n",
    "        df = df.rename(columns={\n",
    "            'INDICATOR_ID': 'indicator',\n",
    "            'TIME': 'year', \n",
    "            'VALUE': 'value'\n",
    "        })\n",
    "        \n",
    "        # Add readable names\n",
    "        indicator_names = {\n",
    "            'COMP.RATE.PRIM': 'Primary completion rate (%)',\n",
    "            'COMP.RATE.SEC': 'Secondary completion rate (%)', \n",
    "            'PUPIL.TEACHER.PRIM': 'Primary pupil-teacher ratio',\n",
    "            'PUPIL.TEACHER.SEC': 'Secondary pupil-teacher ratio'\n",
    "        }\n",
    "        \n",
    "        df['indicator_name'] = df['indicator'].map(indicator_names)\n",
    "        \n",
    "        # Convert to numbers\n",
    "        df['year'] = pd.to_numeric(df['year'])\n",
    "        df['value'] = pd.to_numeric(df['value'])\n",
    "        \n",
    "        print(f\"Success! Got {len(df)} data points\")\n",
    "        return df\n",
    "        \n",
    "    except Exception as e:\n",
    "        print(f\"Error: {e}\")\n",
    "        return None"
   ]
  },
  {
   "cell_type": "code",
   "execution_count": 4,
   "id": "883c0b54-5ce7-492c-bcfc-57248a6cefb7",
   "metadata": {},
   "outputs": [
    {
     "name": "stdout",
     "output_type": "stream",
     "text": [
      "Fetching Kenya education data...\n",
      "Error: Expecting value: line 1 column 1 (char 0)\n"
     ]
    }
   ],
   "source": [
    "kenya_data = get_kenya_education_data()\n",
    "kenya_data"
   ]
  },
  {
   "cell_type": "code",
   "execution_count": null,
   "id": "c02aaf90-e5c4-458e-9cf2-8c680f656404",
   "metadata": {},
   "outputs": [],
   "source": []
  }
 ],
 "metadata": {
  "kernelspec": {
   "display_name": "g9_env",
   "language": "python",
   "name": "g9_env"
  },
  "language_info": {
   "codemirror_mode": {
    "name": "ipython",
    "version": 3
   },
   "file_extension": ".py",
   "mimetype": "text/x-python",
   "name": "python",
   "nbconvert_exporter": "python",
   "pygments_lexer": "ipython3",
   "version": "3.10.18"
  }
 },
 "nbformat": 4,
 "nbformat_minor": 5
}
